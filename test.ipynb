{
 "cells": [
  {
   "cell_type": "code",
   "id": "initial_id",
   "metadata": {
    "collapsed": true,
    "ExecuteTime": {
     "end_time": "2024-12-17T12:43:09.081038Z",
     "start_time": "2024-12-17T12:43:07.149737Z"
    }
   },
   "source": [
    "from mosaicrs.pipeline_steps.MosaicDataSource import MosaicDataSource\n",
    "from mosaicrs.llm.T5Transformer import T5Transformer\n",
    "from mosaicrs.pipeline.Pipeline import Pipeline\n",
    "from mosaicrs.pipeline_steps.DocumentSummarizerStep import DocumentSummarizerStep\n"
   ],
   "outputs": [
    {
     "name": "stderr",
     "output_type": "stream",
     "text": [
      "/Users/felix/Developer/OWS/mosaicRS/.venv/lib/python3.12/site-packages/tqdm/auto.py:21: TqdmWarning: IProgress not found. Please update jupyter and ipywidgets. See https://ipywidgets.readthedocs.io/en/stable/user_install.html\n",
      "  from .autonotebook import tqdm as notebook_tqdm\n"
     ]
    }
   ],
   "execution_count": 1
  },
  {
   "metadata": {
    "ExecuteTime": {
     "end_time": "2024-12-17T12:43:10.865452Z",
     "start_time": "2024-12-17T12:43:09.085099Z"
    }
   },
   "cell_type": "code",
   "source": [
    "t5 = T5Transformer('google/flan-t5-base')\n",
    "\n",
    "pipeline = Pipeline(steps=[MosaicDataSource(), DocumentSummarizerStep(llm=t5), ])"
   ],
   "id": "8c8f1597242a9be9",
   "outputs": [
    {
     "name": "stderr",
     "output_type": "stream",
     "text": [
      "You are using the default legacy behaviour of the <class 'transformers.models.t5.tokenization_t5.T5Tokenizer'>. This is expected, and simply means that the `legacy` (previous) behavior will be used so nothing changes for you. If you want to use the new behaviour, set `legacy=False`. This should only be set if you understand what it means, and thoroughly read the reason why this was added as explained in https://github.com/huggingface/transformers/pull/24565\n"
     ]
    }
   ],
   "execution_count": 2
  },
  {
   "metadata": {
    "ExecuteTime": {
     "end_time": "2024-12-17T12:46:57.400026Z",
     "start_time": "2024-12-17T12:46:54.479371Z"
    }
   },
   "cell_type": "code",
   "source": "",
   "id": "165189a5da7fb099",
   "outputs": [
    {
     "name": "stderr",
     "output_type": "stream",
     "text": [
      "100%|██████████| 1/1 [00:02<00:00,  2.79s/it]\n"
     ]
    }
   ],
   "execution_count": 17
  },
  {
   "metadata": {
    "ExecuteTime": {
     "end_time": "2024-12-17T12:47:02.198036Z",
     "start_time": "2024-12-17T12:47:02.195619Z"
    }
   },
   "cell_type": "code",
   "source": "df = result.documents",
   "id": "76e1aa08334333d9",
   "outputs": [],
   "execution_count": 18
  },
  {
   "metadata": {
    "ExecuteTime": {
     "end_time": "2024-12-17T12:47:02.460733Z",
     "start_time": "2024-12-17T12:47:02.457749Z"
    }
   },
   "cell_type": "code",
   "source": [
    "for r in df['summary']:\n",
    "    print(len(r.split(' ')))"
   ],
   "id": "668671736be78e9a",
   "outputs": [
    {
     "name": "stdout",
     "output_type": "stream",
     "text": [
      "13\n"
     ]
    }
   ],
   "execution_count": 19
  },
  {
   "metadata": {
    "ExecuteTime": {
     "end_time": "2024-12-17T12:47:02.712220Z",
     "start_time": "2024-12-17T12:47:02.706685Z"
    }
   },
   "cell_type": "code",
   "source": "df",
   "id": "1dfa3fc18bd7cd0f",
   "outputs": [
    {
     "data": {
      "text/plain": [
       "                                     id  \\\n",
       "0  237240a8-557c-4831-ac79-5f39fc71dbd1   \n",
       "\n",
       "                                               url                     title  \\\n",
       "0  https://simple.wikipedia.org/wiki/Werner_Scholl  Wikipedia: Werner Scholl   \n",
       "\n",
       "                                         textSnippet language  \\\n",
       "0  org/wiki/Werner_Scholl\\n\\nWerner Scholl (1922-...      eng   \n",
       "\n",
       "           warcDate  wordCount locations keywords  \\\n",
       "0  1705353503000000         29        []       []   \n",
       "\n",
       "                                           full_text  \\\n",
       "0  Wikipedia: Werner Scholl\\n\\nhttps://simple.wik...   \n",
       "\n",
       "                                             summary  \n",
       "0  Werner Scholl (born 1922) is a German football...  "
      ],
      "text/html": [
       "<div>\n",
       "<style scoped>\n",
       "    .dataframe tbody tr th:only-of-type {\n",
       "        vertical-align: middle;\n",
       "    }\n",
       "\n",
       "    .dataframe tbody tr th {\n",
       "        vertical-align: top;\n",
       "    }\n",
       "\n",
       "    .dataframe thead th {\n",
       "        text-align: right;\n",
       "    }\n",
       "</style>\n",
       "<table border=\"1\" class=\"dataframe\">\n",
       "  <thead>\n",
       "    <tr style=\"text-align: right;\">\n",
       "      <th></th>\n",
       "      <th>id</th>\n",
       "      <th>url</th>\n",
       "      <th>title</th>\n",
       "      <th>textSnippet</th>\n",
       "      <th>language</th>\n",
       "      <th>warcDate</th>\n",
       "      <th>wordCount</th>\n",
       "      <th>locations</th>\n",
       "      <th>keywords</th>\n",
       "      <th>full_text</th>\n",
       "      <th>summary</th>\n",
       "    </tr>\n",
       "  </thead>\n",
       "  <tbody>\n",
       "    <tr>\n",
       "      <th>0</th>\n",
       "      <td>237240a8-557c-4831-ac79-5f39fc71dbd1</td>\n",
       "      <td>https://simple.wikipedia.org/wiki/Werner_Scholl</td>\n",
       "      <td>Wikipedia: Werner Scholl</td>\n",
       "      <td>org/wiki/Werner_Scholl\\n\\nWerner Scholl (1922-...</td>\n",
       "      <td>eng</td>\n",
       "      <td>1705353503000000</td>\n",
       "      <td>29</td>\n",
       "      <td>[]</td>\n",
       "      <td>[]</td>\n",
       "      <td>Wikipedia: Werner Scholl\\n\\nhttps://simple.wik...</td>\n",
       "      <td>Werner Scholl (born 1922) is a German football...</td>\n",
       "    </tr>\n",
       "  </tbody>\n",
       "</table>\n",
       "</div>"
      ]
     },
     "execution_count": 20,
     "metadata": {},
     "output_type": "execute_result"
    }
   ],
   "execution_count": 20
  },
  {
   "metadata": {},
   "cell_type": "code",
   "outputs": [],
   "execution_count": null,
   "source": "",
   "id": "8d1d509b92b49a82"
  }
 ],
 "metadata": {
  "kernelspec": {
   "display_name": "Python 3",
   "language": "python",
   "name": "python3"
  },
  "language_info": {
   "codemirror_mode": {
    "name": "ipython",
    "version": 2
   },
   "file_extension": ".py",
   "mimetype": "text/x-python",
   "name": "python",
   "nbconvert_exporter": "python",
   "pygments_lexer": "ipython2",
   "version": "2.7.6"
  }
 },
 "nbformat": 4,
 "nbformat_minor": 5
}
